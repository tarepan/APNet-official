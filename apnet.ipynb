{
  "cells": [
    {
      "cell_type": "markdown",
      "source": [
        "# APNet-official\n",
        "[![Generic badge](https://img.shields.io/badge/GitHub-apnet-9cf.svg)][github]\n",
        "[![Open In Colab](https://colab.research.google.com/assets/colab-badge.svg)][notebook]\n",
        "\n",
        "Author: [tarepan]\n",
        "\n",
        "[github]:https://github.com/tarepan/APNet-official\n",
        "[notebook]:https://colab.research.google.com/github/tarepan/APNet-official/blob/main/apnet.ipynb\n",
        "[tarepan]:https://github.com/tarepan"
      ],
      "metadata": {
        "id": "w_j2NQRzCShE"
      }
    },
    {
      "cell_type": "markdown",
      "source": [
        "## Colab Check\n",
        "Check environments."
      ],
      "metadata": {
        "id": "lhSaqVa4CtiB"
      }
    },
    {
      "cell_type": "code",
      "source": [
        "!cat /proc/uptime | awk '{print $1 /60 /60 /24 \"days (\" $1 \"sec)\"}' # Google Colaboratory runnning time\n",
        "!head -n 1 /proc/driver/nvidia/gpus/**/information                  # GPU type\n",
        "!/usr/local/cuda/bin/nvcc --version | sed '4!d'                     # CUDA version\n",
        "!python --version                                                   # Python version\n",
        "!pip show torch | sed '2!d'                                         # PyTorch version"
      ],
      "metadata": {
        "colab": {
          "base_uri": "https://localhost:8080/"
        },
        "id": "KHhXQeMLCYdd",
        "outputId": "3c75c1d3-876e-487c-a956-a9c944473e68"
      },
      "execution_count": null,
      "outputs": [
        {
          "output_type": "stream",
          "name": "stdout",
          "text": [
            "0.000576505days (49.81sec)\n",
            "Model: \t\t Unknown\n",
            "Cuda compilation tools, release 11.8, V11.8.89\n",
            "Python 3.10.11\n",
            "Version: 2.0.1+cu118\n"
          ]
        }
      ]
    },
    {
      "cell_type": "markdown",
      "source": [
        "## Setup\n",
        "Install the package from user_name/repo_name public repository"
      ],
      "metadata": {
        "id": "dNM5MTUlCfNJ"
      }
    },
    {
      "cell_type": "code",
      "source": [
        "\n",
        "# GoogleDrive\n",
        "from google.colab import drive\n",
        "drive.mount('/content/gdrive')\n",
        "\n",
        "# Dedicated dependencies install\n",
        "# !pip install \"torch==2.0.0\" -q            # Based on your PyTorch environment\n",
        "# !pip install \"torchaudio==2.0.1\" -q       # Based on your PyTorch environment\n",
        "# !pip install 'lightning>=2.0.0,<2.1.0' -q # Based on your PyTorch environment\n",
        "# !pip install git+https://github.com/tarepan/lightlightning.git\n",
        "!pip install git+https://github.com/tarepan/speechcorpusy.git\n",
        "!pip install git+https://github.com/tarepan/extorch.git\n",
        "\n",
        "# repository install\n",
        "# !pip uninstall packname -y -q\n",
        "# !pip install git+https://github.com/user_name/repo_name -q\n",
        "!git clone https://github.com/tarepan/APNet-official\n",
        "%cd APNet-official"
      ],
      "metadata": {
        "id": "KgzuZG3CCggP"
      },
      "execution_count": null,
      "outputs": []
    },
    {
      "cell_type": "markdown",
      "source": [
        "## Data"
      ],
      "metadata": {
        "id": "oc7EPz8YiYMS"
      }
    },
    {
      "cell_type": "markdown",
      "source": [
        "### Resampling"
      ],
      "metadata": {
        "id": "X8qhakvSmcgl"
      }
    },
    {
      "cell_type": "code",
      "source": [
        "import numpy as np\n",
        "import torch\n",
        "import torchaudio\n",
        "import librosa\n",
        "from speechcorpusy import load_preset\n",
        "import soundfile as sf\n",
        "\n",
        "\n",
        "sr_target = 16000\n",
        "\n",
        "\n",
        "corpus = load_preset(\"JVS\", root=\"/content/gdrive/MyDrive/ML_data\", download=False)\n",
        "corpus.get_contents()\n",
        "all_uttr_paths = list(map(lambda id: corpus.get_item_path(id), corpus.get_identities()))\n",
        "\n",
        "# Resampler\n",
        "_, sr_source = librosa.load(all_uttr_paths[0], sr=None, mono=True)\n",
        "resampler = torchaudio.transforms.Resample(sr_source, sr_target, resampling_method = 'sinc_interp_kaiser').cuda()\n",
        "\n",
        "# Run\n",
        "for p in all_uttr_paths:\n",
        "    audio = librosa.load(p, sr=None, mono=True)[0].astype(np.float32)\n",
        "    audio_resampled = resampler(torch.from_numpy(audio).cuda()).cpu().numpy()\n",
        "    sf.write(p.with_suffix(\".16k.wav\"), audio_resampled, sr_target)\n"
      ],
      "metadata": {
        "id": "VKuRNim_iaFk"
      },
      "execution_count": null,
      "outputs": []
    },
    {
      "cell_type": "markdown",
      "source": [
        "## Train"
      ],
      "metadata": {
        "id": "cMxI9Pbuluek"
      }
    },
    {
      "cell_type": "code",
      "source": [
        "%load_ext tensorboard\n",
        "%tensorboard --logdir /content/gdrive/MyDrive/ML_results/apnet-official\n",
        "\n",
        "!python train.py"
      ],
      "metadata": {
        "id": "yEwfk7wblvGU"
      },
      "execution_count": null,
      "outputs": []
    }
  ],
  "metadata": {
    "colab": {
      "provenance": [],
      "gpuType": "T4"
    },
    "kernelspec": {
      "display_name": "Python 3",
      "name": "python3"
    },
    "accelerator": "GPU"
  },
  "nbformat": 4,
  "nbformat_minor": 0
}